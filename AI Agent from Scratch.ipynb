{
 "cells": [
  {
   "cell_type": "code",
   "execution_count": 1,
   "id": "07a8a5f8",
   "metadata": {},
   "outputs": [],
   "source": [
    "from openai import OpenAI"
   ]
  },
  {
   "cell_type": "code",
   "execution_count": 2,
   "id": "24b723df",
   "metadata": {},
   "outputs": [],
   "source": [
    "from dotenv import load_dotenv\n",
    "import os\n",
    "load_dotenv()\n",
    "\n",
    "api_key = os.getenv(\"OPENAI_API_KEY\")\n",
    "client = OpenAI(\n",
    "    base_url=\"https://openai.vocareum.com/v1\",\n",
    "    api_key=api_key\n",
    ")"
   ]
  },
  {
   "cell_type": "code",
   "execution_count": 3,
   "id": "dbead163",
   "metadata": {},
   "outputs": [],
   "source": [
    "system_prompt = \"You are a budget-friendly travel assistant who helps solo travelers plan efficient, low-cost, and exciting trips. You provide smart tips on transportation, local food, hostel stays, and hidden gems to explore.\"\n",
    "user_question = \"I'm traveling solo to Southeast Asia for 2 weeks on a tight budget. Can you help me plan an affordable itinerary with cool places to explore?\"\n"
   ]
  },
  {
   "cell_type": "code",
   "execution_count": 11,
   "id": "425f5b61",
   "metadata": {},
   "outputs": [],
   "source": [
    "response = client.chat.completions.create(\n",
    "    model=\"gpt-4o-mini\",\n",
    "    messages=[\n",
    "        {\"role\": \"system\", \"content\": system_prompt},\n",
    "        {\"role\": \"user\", \"content\": user_question},\n",
    "    ],\n",
    "    temperature=0.0,\n",
    ")"
   ]
  },
  {
   "cell_type": "code",
   "execution_count": 12,
   "id": "733cd639",
   "metadata": {},
   "outputs": [
    {
     "data": {
      "text/plain": [
       "\"Absolutely! Southeast Asia is a fantastic destination for solo travelers on a budget. Here’s a suggested 2-week itinerary that balances culture, nature, and adventure while keeping costs low.\\n\\n### Week 1: Thailand\\n\\n**Days 1-3: Bangkok**\\n- **Accommodation**: Stay in a budget hostel in the Khao San Road area (around $10-15/night).\\n- **Transportation**: Use the BTS Skytrain and local buses for cheap travel.\\n- **Food**: Try street food at places like Yaowarat (Chinatown) for delicious and affordable meals (around $1-3).\\n- **Activities**:\\n  - Visit the Grand Palace and Wat Pho (entry around $15).\\n  - Explore the Chatuchak Weekend Market (if you're there on a weekend).\\n  - Take a boat ride on the Chao Phraya River (around $1).\\n\\n**Days 4-5: Chiang Mai**\\n- **Transportation**: Fly to Chiang Mai (budget airlines like AirAsia often have deals, around $30-50).\\n- **Accommodation**: Stay in a hostel in the Old City (around $10-15/night).\\n- **Food**: Enjoy Khao Soi (local curry noodle dish) at street stalls (around $2).\\n- **Activities**:\\n  - Visit temples like Wat Phra Singh and Wat Chedi Luang (entry is usually free or a small donation).\\n  - Take a day trip to Doi Suthep (entry around $1) and explore the surrounding national park.\\n\\n### Week 2: Vietnam\\n\\n**Days 6-8: Hanoi**\\n- **Transportation**: Fly from Chiang Mai to Hanoi (around $30-50).\\n- **Accommodation**: Stay in a budget hostel in the Old Quarter (around $8-12/night).\\n- **Food**: Try Pho and Banh Mi from street vendors (around $1-3).\\n- **Activities**:\\n  - Visit Hoan Kiem Lake and Ngoc Son Temple (entry around $1).\\n  - Explore the Old Quarter and its vibrant street life.\\n  - Take a day trip to Ninh Binh for stunning landscapes (bus tours available for around $10-15).\\n\\n**Days 9-10: Halong Bay**\\n- **Transportation**: Book a budget tour from Hanoi to Halong Bay (around $30-50 for a day trip).\\n- **Activities**: Enjoy kayaking, swimming, and exploring caves in the bay. Look for budget tours that include meals.\\n\\n**Days 11-14: Ho Chi Minh City (Saigon)**\\n- **Transportation**: Fly from Hanoi to Ho Chi Minh City (around $30-50).\\n- **Accommodation**: Stay in a budget hostel in District 1 (around $8-15/night).\\n- **Food**: Sample local dishes like Com tam (broken rice) and street food (around $1-3).\\n- **Activities**:\\n  - Visit the War Remnants Museum (entry around $2).\\n  - Explore Ben Thanh Market for shopping and local snacks.\\n  - Take a day trip to the Cu Chi Tunnels (tours available for around $10-15).\\n\\n### Additional Tips:\\n- **Transportation**: Use local buses, Grab (Southeast Asia's Uber), or rent a bicycle in cities for cheap transport.\\n- **Food**: Always opt for street food; it’s cheaper and often more authentic.\\n- **Hidden Gems**: Look for local parks, markets, and lesser-known temples to avoid tourist crowds and high prices.\\n- **Travel Insurance**: Consider getting travel insurance for peace of mind.\\n\\nThis itinerary provides a mix of cultural experiences, natural beauty, and delicious food while keeping costs low. Enjoy your adventure in Southeast Asia!\""
      ]
     },
     "execution_count": 12,
     "metadata": {},
     "output_type": "execute_result"
    }
   ],
   "source": [
    "response.choices[0].message.content"
   ]
  },
  {
   "cell_type": "code",
   "execution_count": 13,
   "id": "661dad24",
   "metadata": {},
   "outputs": [],
   "source": [
    "# Constructor\n",
    "\n",
    "# First of all, create a class called Agent with the following parameters in the __init__ method:\n",
    "\n",
    "# name (default: \"Agent\")\n",
    "# role (default: \"Personal Assistant\")\n",
    "# instructions (default: \"Help users with any question\")\n",
    "# model (default: \"gpt-4o-mini\")\n",
    "# temperature (default: 0.0)\n",
    "# It's recommended having the client being accessible inside your agent.\n",
    "\n",
    "# Invoke\n",
    "\n",
    "# Most agentic framworks out there provide an invoke() method. For compatibilities reason, we'll do the same. This method should:\n",
    "\n",
    "# take a message as input;\n",
    "# send the message to the LLM's API using the specified model and temperature;\n",
    "# format the API request with the system role and user input;\n",
    "# return the LLM’s response.\n",
    "# Notice that your system prompt must consider role and instructions, otherwise it will not behave as you'd like."
   ]
  },
  {
   "cell_type": "code",
   "execution_count": null,
   "id": "eb18c709",
   "metadata": {},
   "outputs": [],
   "source": [
    "class Agent():\n",
    "    \"\"\"A simple AI Agent\"\"\"\n",
    "\n",
    "    def __init__(\n",
    "        self,\n",
    "        name:str = \"Agent\", \n",
    "        role:str = \"Personal Assistant\",\n",
    "        instructions:str = \"Help users with any question\",\n",
    "        model:str = \"gpt-4o-mini\",\n",
    "        temperature:float = 0.0,\n",
    "    ):\n",
    "        self.name = name\n",
    "        self.role = role\n",
    "        self.instructions = instructions\n",
    "        self.model = model\n",
    "        self.temperature = temperature\n",
    "\n",
    "        # self.client = OpenAI(\n",
    "        #     base_url= \"\"\n",
    "        #     api_key = \"\"\n",
    "        # )\n",
    "        self.client = client      #Global client called here.....\n",
    "        \n",
    "    def invoke(self, message: str) -> str:\n",
    "        response = self.client.chat.completions.create(\n",
    "            model = self.model,\n",
    "            temperature=self.temperature,\n",
    "            messages = [\n",
    "                {\n",
    "                    \"role\": \"system\",\n",
    "                    \"content\": f\"You're an AI Agent, your role is {self.role}, \" \n",
    "                               f\"and you need to {self.instructions}\",\n",
    "                },\n",
    "                {\n",
    "                    \"role\": \"user\",\n",
    "                    \"content\": message,\n",
    "                }\n",
    "\n",
    "            ]\n",
    "        )\n",
    "        return response.choices[0].message.content"
   ]
  },
  {
   "cell_type": "code",
   "execution_count": 18,
   "id": "06873b3f",
   "metadata": {},
   "outputs": [
    {
     "name": "stdout",
     "output_type": "stream",
     "text": [
      "Agent Role: Personal Assistant\n",
      "Default Agent Response: The capital of Madhya Pradesh is Bhopal.\n"
     ]
    }
   ],
   "source": [
    "# Normal Agent\n",
    "\n",
    "agent =Agent()\n",
    "response = agent.invoke(\"What is the Capital of Madhya Pradesh?\")\n",
    "print(\"Agent Role:\", agent.role)\n",
    "print(\"Default Agent Response:\", response)"
   ]
  },
  {
   "cell_type": "code",
   "execution_count": 19,
   "id": "c82f9dc7",
   "metadata": {},
   "outputs": [
    {
     "name": "stdout",
     "output_type": "stream",
     "text": [
      "Agent role: Travel Assistant\n",
      "Travel Agent Response: December is a wonderful time for a vacation, and your destination can depend on what kind of experience you're looking for. Here are a few recommendations:\n",
      "\n",
      "### 1. **Winter Wonderland**\n",
      "   - **Aspen, Colorado, USA**: Ideal for skiing, snowboarding, and enjoying a cozy winter atmosphere. The scenic views and luxury accommodations make it a top winter destination.\n",
      "   - **Lapland, Finland**: Experience the magic of the Arctic Circle with activities like dog sledding, visiting Santa Claus Village, and enjoying the Northern Lights.\n",
      "\n",
      "### 2. **Warm Destinations**\n",
      "   - **Beach Getaway in the Caribbean**: Consider destinations like Barbados, Jamaica, or the Bahamas for warm weather, beautiful beaches, and vibrant culture.\n",
      "   - **Sydney, Australia**: December is summer in Australia, making it perfect for beach days, outdoor festivals, and the famous Sydney Harbour celebrations.\n",
      "\n",
      "### 3. **Cultural Experiences**\n",
      "   - **Vienna, Austria**: Famous for its Christmas markets, stunning architecture, and classical music, Vienna is enchanting in December.\n",
      "   - **Tokyo, Japan**: Enjoy the festive illuminations, seasonal foods, and unique cultural experiences, such as visiting shrines and temples during the New Year celebrations.\n",
      "\n",
      "### 4. **Adventure and Nature**\n",
      "   - **Costa Rica**: Enjoy the dry season in December, perfect for exploring rainforests, wildlife, and beautiful beaches. Activities include zip-lining, surfing, and hiking.\n",
      "   - **New Zealand**: With its stunning landscapes, December is perfect for outdoor adventures like hiking, exploring the fjords, and experiencing Maori culture.\n",
      "\n",
      "### 5. **Holiday Festivities**\n",
      "   - **New York City, USA**: Experience the iconic holiday season with festive decorations, ice skating in Central Park, the Rockefeller Center Christmas Tree, and Broadway shows.\n",
      "   - **Quebec City, Canada**: Known for its charming old town and winter festival, it offers a magical atmosphere with holiday lights, snow-covered streets, and French-inspired cuisine.\n",
      "\n",
      "Consider what kind of experience you want (snowy, warm, cultural, adventurous) and choose a destination that fits your preferences!\n"
     ]
    }
   ],
   "source": [
    "# Travel Agent\n",
    "\n",
    "travel_agent = Agent(\n",
    "    role=\"Travel Assistant\", \n",
    "    instructions=\"Provide travel recommendations.\", \n",
    "    temperature=0.7\n",
    ")\n",
    "travel_response = travel_agent.invoke(\"Where should I go for vacation in December?\")\n",
    "print(\"Agent role:\", travel_agent.role)\n",
    "print(\"Travel Agent Response:\", travel_response)"
   ]
  },
  {
   "cell_type": "code",
   "execution_count": 20,
   "id": "4d8431f2",
   "metadata": {},
   "outputs": [
    {
     "name": "stdout",
     "output_type": "stream",
     "text": [
      "Agent role: Math Tutor\n",
      "Math Tutor Response: To solve a quadratic equation, you can use several methods, including factoring, completing the square, or using the quadratic formula. A quadratic equation is typically in the form:\n",
      "\n",
      "\\[ ax^2 + bx + c = 0 \\]\n",
      "\n",
      "where \\( a \\), \\( b \\), and \\( c \\) are constants, and \\( a \\neq 0 \\).\n",
      "\n",
      "### Method 1: Factoring\n",
      "1. **Write the equation in standard form**: Ensure it is in the form \\( ax^2 + bx + c = 0 \\).\n",
      "2. **Factor the quadratic**: Look for two numbers that multiply to \\( ac \\) (the product of \\( a \\) and \\( c \\)) and add to \\( b \\).\n",
      "3. **Set each factor to zero**: If you can factor the equation as \\( (px + q)(rx + s) = 0 \\), set each factor equal to zero:\n",
      "   - \\( px + q = 0 \\)\n",
      "   - \\( rx + s = 0 \\)\n",
      "4. **Solve for \\( x \\)**: Solve each equation for \\( x \\).\n",
      "\n",
      "### Method 2: Completing the Square\n",
      "1. **Start with the standard form**: \\( ax^2 + bx + c = 0 \\).\n",
      "2. **Divide by \\( a \\)** (if \\( a \\neq 1 \\)): This makes the coefficient of \\( x^2 \\) equal to 1.\n",
      "3. **Move \\( c \\) to the other side**: \\( x^2 + \\frac{b}{a}x = -\\frac{c}{a} \\).\n",
      "4. **Complete the square**: Take half of the coefficient of \\( x \\) (which is \\( \\frac{b}{2a} \\)), square it, and add it to both sides.\n",
      "5. **Rewrite the left side as a square**: It will look like \\( (x + \\frac{b}{2a})^2 = \\text{some number} \\).\n",
      "6. **Take the square root of both sides**: Remember to consider both the positive and negative roots.\n",
      "7. **Solve for \\( x \\)**.\n",
      "\n",
      "### Method 3: Quadratic Formula\n",
      "1. **Use the quadratic formula**: The solutions for \\( ax^2 + bx + c = 0 \\) can be found using:\n",
      "   \\[\n",
      "   x = \\frac{-b \\pm \\sqrt{b^2 - 4ac}}{2a}\n",
      "   \\]\n",
      "2. **Calculate the discriminant**: \\( D = b^2 - 4ac \\).\n",
      "   - If \\( D > 0 \\): Two distinct real solutions.\n",
      "   - If \\( D = 0 \\): One real solution (a repeated root).\n",
      "   - If \\( D < 0 \\): No real solutions (two complex solutions).\n",
      "3. **Plug in the values of \\( a \\), \\( b \\), and \\( c \\)** into the formula to find \\( x \\).\n",
      "\n",
      "### Example\n",
      "Let's solve the quadratic equation \\( 2x^2 - 4x - 6 = 0 \\) using the quadratic formula.\n",
      "\n",
      "1. Identify \\( a = 2 \\), \\( b = -4 \\), and \\( c = -6 \\).\n",
      "2. Calculate the discriminant:\n",
      "   \\[\n",
      "   D = (-4)^2 - 4(2)(-6) = 16 + 48 = 64\n",
      "   \\]\n",
      "3. Since \\( D > 0 \\), there will be two real solutions.\n",
      "4. Use the quadratic formula:\n",
      "   \\[\n",
      "   x = \\frac{-(-4) \\pm \\sqrt{64}}{2(2)} = \\frac{4 \\pm 8}{4}\n",
      "   \\]\n",
      "5. Calculate the two solutions:\n",
      "   - \\( x_1 = \\frac{4 + 8}{4} = \\frac{12}{4} = 3 \\)\n",
      "   - \\( x_2 = \\frac{4 - 8}{4} = \\frac{-4}{4} = -1 \\)\n",
      "\n",
      "So, the solutions are \\( x = 3 \\) and \\( x = -1 \\).\n",
      "\n",
      "Feel free to ask if you have a specific quadratic equation you'd like to solve!\n"
     ]
    }
   ],
   "source": [
    "# Math Tutor\n",
    "\n",
    "math_tutor = Agent(\n",
    "    role=\"Math Tutor\", \n",
    "    instructions=\"Help students solve math problems step-by-step.\"\n",
    ")\n",
    "math_response = math_tutor.invoke(\"How do I solve a quadratic equation?\")\n",
    "print(\"Agent role:\", math_tutor.role)\n",
    "print(\"Math Tutor Response:\", math_response)"
   ]
  },
  {
   "cell_type": "code",
   "execution_count": 21,
   "id": "dee22366",
   "metadata": {},
   "outputs": [
    {
     "name": "stdout",
     "output_type": "stream",
     "text": [
      "Agent role: Storyteller\n",
      "Creative Agent Response: In a realm where mountains kissed the sky and rivers sang to the valleys, there existed a dragon named Zephyrion. His scales shimmered like emeralds under the sun, and his eyes sparkled with ancient wisdom. Zephyrion was a creature of legend, a guardian of the Crystal Caves—treasures hidden deep within the rocky mountains. Many sought to claim the crystals’ power, but none dared to challenge the mighty dragon.\n",
      "\n",
      "Far from the mountains, nestled in the heart of the Enchanted Forest, lived a young wizard named Elara. She was known for her insatiable curiosity and a knack for discovering the unknown. Elara had heard tales of the Crystal Caves and the powerful magic that lay within. One day, with her staff in hand and a satchel filled with spellbooks and herbs, she set off on an adventure to find the dragon and learn his secrets.\n",
      "\n",
      "As she journeyed through thick forests and treacherous cliffs, Elara encountered creatures both wondrous and terrifying—talking trees, mischievous fairies, and shadows that danced at the edge of her vision. But Elara pressed on, driven by her quest for knowledge.\n",
      "\n",
      "Eventually, she stood before the entrance of the Crystal Caves. The air was thick with magic, and the ground trembled as Zephyrion emerged, his wings casting a giant shadow over her. \"Who dares disturb my sanctuary?\" he thundered, his voice echoing like a storm.\n",
      "\n",
      "Elara, though initially intimidated, stood her ground. \"I am Elara, a wizard in pursuit of wisdom. I seek to understand the magic of the crystals you guard, not to steal it, but to learn from it.\"\n",
      "\n",
      "Zephyrion narrowed his eyes, intrigued. \"Many have come seeking power; few have sought knowledge. You pique my interest, young wizard. What do you wish to learn?\"\n",
      "\n",
      "Elara took a deep breath, gathering her courage. \"I wish to understand the bond between magic and nature, how to harness its energy without disrupting the balance of the world.\"\n",
      "\n",
      "The dragon studied her intently, his mind racing through centuries of knowledge. \"Very well, Elara. I shall teach you, but you must first prove your intent is pure. To do so, you must embark on a challenge—a journey through the Crystal Trials.\"\n",
      "\n",
      "With a nod of determination, Elara agreed. Zephyrion summoned the winds, and the ground beneath her feet shifted, revealing a pathway into the depths of the caves.\n",
      "\n",
      "Throughout her trials, Elara faced illusions that tested her resolve, puzzles that challenged her intellect, and creatures that threatened her with fear. With each obstacle, she drew upon her knowledge of spells and her understanding of nature, demonstrating that magic was not merely a tool for power but a language of harmony.\n",
      "\n",
      "At the final trial’s completion, Zephyrion awaited her in the luminous heart of the caves, where crystals pulsated with colors beyond imagination. “You have shown courage, wisdom, and an understanding of balance. You possess the heart of a true wizard.”\n",
      "\n",
      "With that, Zephyrion bestowed upon her a crystal of his own—a gem that glowed with the essence of the forest, the mountains, and the skies. “This crystal will amplify your magic, but remember, it is only as powerful as the intent behind it.”\n",
      "\n",
      "Elara thanked the dragon and returned to her home, transformed not just by the power of the crystal, but by the friendship formed with the ancient guardian. She vowed to use her newfound wisdom to protect the delicate balance of magic and nature in her world.\n",
      "\n",
      "And so, the bonds between dragon and wizard grew stronger, their destinies entwined in a tapestry of adventure, knowledge, and respect for all living things. Together, they became legends, guiding future generations to seek wisdom rather than power—teaching that true magic lies in understanding the world around them.\n"
     ]
    }
   ],
   "source": [
    "# Story Teller Agent\n",
    "\n",
    "storyteller_agent = Agent(\n",
    "    role=\"Storyteller\", \n",
    "    instructions=\"Create imaginative stories.\", \n",
    "    temperature=0.9\n",
    ")\n",
    "story_response = storyteller_agent.invoke(\"Tell me a story about a dragon and a wizard.\")\n",
    "print(\"Agent role:\", storyteller_agent.role)\n",
    "print(\"Creative Agent Response:\", story_response)"
   ]
  },
  {
   "cell_type": "code",
   "execution_count": null,
   "id": "414ccd4b",
   "metadata": {},
   "outputs": [],
   "source": []
  }
 ],
 "metadata": {
  "kernelspec": {
   "display_name": ".venv",
   "language": "python",
   "name": "python3"
  },
  "language_info": {
   "codemirror_mode": {
    "name": "ipython",
    "version": 3
   },
   "file_extension": ".py",
   "mimetype": "text/x-python",
   "name": "python",
   "nbconvert_exporter": "python",
   "pygments_lexer": "ipython3",
   "version": "3.13.5"
  }
 },
 "nbformat": 4,
 "nbformat_minor": 5
}
