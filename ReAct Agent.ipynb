{
 "cells": [
  {
   "cell_type": "code",
   "execution_count": 39,
   "id": "2eacb8f1",
   "metadata": {},
   "outputs": [],
   "source": [
    "import requests\n",
    "import datetime\n",
    "import inspect\n",
    "import json\n",
    "from typing import(\n",
    "    TypedDict,\n",
    "    List,\n",
    "    Dict,\n",
    "    Literal,\n",
    "    Callable,\n",
    "    Optional,\n",
    "    Any,\n",
    "    get_type_hints\n",
    ")\n",
    "from openai import OpenAI\n",
    "from openai.types.chat.chat_completion_message import ChatCompletionMessage\n",
    "from openai.types.chat.chat_completion_message_tool_call import ChatCompletionMessageToolCall"
   ]
  },
  {
   "cell_type": "code",
   "execution_count": 40,
   "id": "9d2e3b88",
   "metadata": {},
   "outputs": [],
   "source": [
    "from dotenv import load_dotenv\n",
    "import os\n",
    "load_dotenv()\n",
    "api_key = os.getenv(\"OPENAI_API_KEY\")\n",
    "client = OpenAI(\n",
    "    base_url=\"https://openai.vocareum.com/v1\",\n",
    "    api_key=api_key\n",
    ")\n"
   ]
  },
  {
   "cell_type": "code",
   "execution_count": null,
   "id": "8230190a",
   "metadata": {},
   "outputs": [],
   "source": [
    "class Memory:\n",
    "    def __init__(self):\n",
    "        self._messages: List[Dict[str, str]] = []\n",
    "    \n",
    "    def add_message(self, \n",
    "                    role: Literal['user', 'system', 'assistant', 'tool'], \n",
    "                    content: str,\n",
    "                    tool_calls: dict=dict(),\n",
    "                    tool_call_id=None)-> None:\n",
    "\n",
    "        message = {\n",
    "            \"role\": role,\n",
    "            \"content\": content,\n",
    "            \"tool_calls\": tool_calls,\n",
    "        }\n",
    "\n",
    "        if role == \"tool\":\n",
    "            message = {\n",
    "                \"role\": role,\n",
    "                \"content\": content,\n",
    "                \"tool_call_id\": tool_call_id,\n",
    "            }\n",
    "\n",
    "        self._messages.append(message)\n",
    "\n",
    "    def get_messages(self) -> List[Dict[str, str]]:\n",
    "        return self._messages\n",
    "\n",
    "    def last_message(self) -> None:\n",
    "        if self._messages:\n",
    "            return self._messages[-1]\n",
    "\n",
    "    def reset(self) -> None:\n",
    "        self._messages = []"
   ]
  },
  {
   "cell_type": "code",
   "execution_count": null,
   "id": "390ced81",
   "metadata": {},
   "outputs": [],
   "source": [
    "class Tool:\n",
    "    def __init__(self, func:Callable):\n",
    "        self.func = func\n",
    "        self.name = func.__name__\n",
    "        self.description = func.__doc__\n",
    "        self.argument_types_map = get_type_hints(func)\n",
    "        self.signature = inspect.signature(func)      # gets the full signature (parameters and defaults) of a function as a Signature object for introspection.\n",
    "        self.arguments = [\n",
    "            {\n",
    "                \"name\": key, \n",
    "                \"type\": self._infer_json_schema_type(value),\n",
    "                \"required\": param.default == inspect.Parameter.empty\n",
    "            } \n",
    "            for key, value in self.argument_types_map.items()\n",
    "            if (param := self.signature.parameters.get(key))  #walrus operator\n",
    "        ]\n",
    "\n",
    "    def dict(self):\n",
    "        return {\n",
    "            \"type\": \"function\",\n",
    "            \"function\": {\n",
    "                \"name\": self.name,\n",
    "                \"description\": self.description,\n",
    "                \"parallel_tool_calls\": False,\n",
    "                \"parameters\": {\n",
    "                    \"type\": \"object\",\n",
    "                    \"properties\": {\n",
    "                        argument[\"name\"]: {\n",
    "                            \"type\": argument[\"type\"],\n",
    "                        }\n",
    "                        for argument in self.arguments\n",
    "                    },\n",
    "                    \"required\": [\n",
    "                        argument[\"name\"] \n",
    "                        for argument in self.arguments \n",
    "                        if argument[\"required\"]\n",
    "                    ],\n",
    "                    \"additionalProperties\": False,\n",
    "                },\n",
    "                \"strict\": True\n",
    "            }\n",
    "        }\n",
    "\n",
    "    def __call__(self, *args, **kwargs):\n",
    "        return self.func(*args, **kwargs)\n",
    "    \n",
    "    def _infer_json_schema_type(self, arg_type: Any) -> str:\n",
    "        if arg_type == bool:\n",
    "            return \"boolean\"\n",
    "        elif arg_type == int:\n",
    "            return \"integer\"\n",
    "        elif arg_type == float:\n",
    "            return \"number\"\n",
    "        elif arg_type == str:\n",
    "            return \"string\"\n",
    "        elif arg_type == list:\n",
    "            return \"array\"\n",
    "        elif arg_type == dict:\n",
    "            return \"object\"\n",
    "        elif arg_type is None:\n",
    "            return \"null\"\n",
    "        elif arg_type == datetime.date or arg_type == datetime.datetime:\n",
    "            return \"string\"  # JSON Schema treats dates as strings\n",
    "        else:\n",
    "            return \"string\"  # Default to string if type is unknown"
   ]
  },
  {
   "cell_type": "code",
   "execution_count": 43,
   "id": "890b1a1b",
   "metadata": {},
   "outputs": [
    {
     "name": "stdout",
     "output_type": "stream",
     "text": [
      "Hello Pradhum, you are 18 years old!\n",
      "{\n",
      "  \"type\": \"function\",\n",
      "  \"function\": {\n",
      "    \"name\": \"greet\",\n",
      "    \"description\": \"Greets the user by name and age\",\n",
      "    \"parallel_tool_calls\": false,\n",
      "    \"parameters\": {\n",
      "      \"type\": \"object\",\n",
      "      \"properties\": {\n",
      "        \"name\": {\n",
      "          \"type\": \"string\"\n",
      "        },\n",
      "        \"age\": {\n",
      "          \"type\": \"integer\"\n",
      "        }\n",
      "      },\n",
      "      \"required\": [\n",
      "        \"name\"\n",
      "      ],\n",
      "      \"additionalProperties\": false\n",
      "    },\n",
      "    \"strict\": true\n",
      "  }\n",
      "}\n"
     ]
    }
   ],
   "source": [
    "@Tool\n",
    "def greet(name: str, age: int = 18):\n",
    "    \"\"\"Greets the user by name and age\"\"\"\n",
    "    return f\"Hello {name}, you are {age} years old!\"\n",
    "\n",
    "# Call the function\n",
    "print(greet(\"Pradhum\"))\n",
    "\n",
    "# View the tool schema\n",
    "print(json.dumps(greet.dict(), indent=2))\n",
    "\n"
   ]
  },
  {
   "cell_type": "code",
   "execution_count": 44,
   "id": "fdfaac97",
   "metadata": {},
   "outputs": [],
   "source": [
    "class StopReactLoopException(Exception):\n",
    "    \"\"\"\n",
    "    Terminates ReAct loop\n",
    "    \"\"\""
   ]
  },
  {
   "cell_type": "code",
   "execution_count": 45,
   "id": "9d927ded",
   "metadata": {},
   "outputs": [],
   "source": [
    "TERMINATION_MESSAGE = \"StopReactLoopException\""
   ]
  },
  {
   "cell_type": "code",
   "execution_count": 46,
   "id": "5e45194f",
   "metadata": {},
   "outputs": [],
   "source": [
    "def termination()-> str:\n",
    "    \"\"\"Terminate the ReAct loop. If the agent thinks there's no further actions to take\"\"\"\n",
    "    return TERMINATION_MESSAGE "
   ]
  },
  {
   "cell_type": "code",
   "execution_count": null,
   "id": "9c6daefd",
   "metadata": {},
   "outputs": [],
   "source": [
    "class Agent:\n",
    "    \"\"\"A ReAct AI Agent\"\"\"\n",
    "    \n",
    "    def __init__(\n",
    "        self,\n",
    "        name:str = \"Agent\", \n",
    "        role:str = \"Personal Assistant\",\n",
    "        instructions:str = \"Help users with any question\",\n",
    "        model:str = \"gpt-4o-mini\",\n",
    "        temperature:float = 0.0,\n",
    "        tools:List[Tool] = [],\n",
    "    ):  \n",
    "        self.name = name\n",
    "        self.role = role\n",
    "        self.instructions = instructions\n",
    "        self.model = model\n",
    "        self.temperature = temperature\n",
    "        self.client = client\n",
    "        self.tools = tools\n",
    "        self.termination_message = TERMINATION_MESSAGE\n",
    "        self._register_tool(Tool(termination))\n",
    "        self.tool_map = {t.name:t for t in tools}\n",
    "        #Maps tool names to tool objects — helps you quickly look up a tool by name.\n",
    "        self.openai_tools = [t.dict() for t in self.tools] if self.tools else None\n",
    "        #Converts each tool into OpenAI-compatible schema using dict() method.\n",
    "        self.memory = Memory()\n",
    "        self.memory.add_message(\n",
    "            role=\"system\",\n",
    "            content=f\"You're an AI Agent, your role is {self.role}, \" \n",
    "                    f\"and you need to {self.instructions} \"\n",
    "                    \"You can answer multistep questions by sequentially calling functions. \"\n",
    "                    \"You follow a pattern of of Thought and Action. \"\n",
    "                    \"Create a plan of execution: \"\n",
    "                    \"- Use Thought to describe your thoughts about the question you have been asked. \"\n",
    "                    \"- Use Action to specify one of the tools available to you. \"\n",
    "                    \"When you think it's over call the termination tool. \"\n",
    "                    \"Never try to respond directly if the question needs a tool.\"\n",
    "                    \"The actions you have are the Tools: \"\n",
    "                    f\"{self.openai_tools}\",\n",
    "        )\n",
    "\n",
    "\n",
    "#Takes user inout and starts REact loop.......\n",
    "    def invoke(self, user_message: str, max_iter:int=3) -> str:\n",
    "        self.memory.add_message(\n",
    "            role=\"user\",\n",
    "            content=user_message,\n",
    "        )\n",
    "        try:\n",
    "            self._react_loop(max_iter)\n",
    "        except StopReactLoopException as e:\n",
    "            print(f\"Termninated loop with message: '{e}'\")\n",
    "            self._reason()\n",
    "\n",
    "        return self.memory.last_message()\n",
    "\n",
    "\n",
    "#Repeated reasoning and tool calling..................\n",
    "    def _react_loop(self, max_iter:int):\n",
    "        for i in range(max_iter):\n",
    "            self._reason()\n",
    "\n",
    "            ai_message = self._get_completion(\n",
    "                messages = self.memory.get_messages(),\n",
    "                tools=self.openai_tools,\n",
    "            )\n",
    "            tool_calls = ai_message.tool_calls\n",
    "\n",
    "            self.memory.add_message(\n",
    "                role=\"assistant\",\n",
    "                content=ai_message.content,\n",
    "                tool_calls=tool_calls,\n",
    "            )\n",
    "\n",
    "            if tool_calls:\n",
    "                self._call_tools(tool_calls)\n",
    "\n",
    "\n",
    "\n",
    "#Ask LLM to think without the tools..................\n",
    "    def _reason(self):\n",
    "        # No tools\n",
    "        ai_message = self._get_completion(\n",
    "            messages = self.memory.get_messages(),\n",
    "        )\n",
    "\n",
    "        self.memory.add_message(\n",
    "            role=\"assistant\",\n",
    "            content=ai_message.content,\n",
    "            tool_calls=None,\n",
    "        )\n",
    "\n",
    "#Executes the tools call returned by LLM..................\n",
    "    def _call_tools(self, tool_calls:List[ChatCompletionMessageToolCall]):\n",
    "\n",
    "        for t in tool_calls:\n",
    "            tool_call_id = t.id                          #Loads Id\n",
    "            function_name = t.function.name              #Loads Name\n",
    "            args = json.loads(t.function.arguments)      #Loads Arguments\n",
    "\n",
    "            callable_tool = self.tool_map[function_name]\n",
    "            result = callable_tool(**args)\n",
    "            \n",
    "            self.memory.add_message(\n",
    "                role=\"tool\", \n",
    "                content=str(result), \n",
    "                tool_call_id=tool_call_id\n",
    "            )\n",
    "            if result == TERMINATION_MESSAGE:\n",
    "                raise StopReactLoopException(TERMINATION_MESSAGE)\n",
    "\n",
    "\n",
    "#Sends messages and tools to the OpenAI................\n",
    "    def _get_completion(self, messages:List[Dict], tools:List=None)-> ChatCompletionMessage:\n",
    "        response = self.client.chat.completions.create(\n",
    "            model=self.model,\n",
    "            temperature=self.temperature,\n",
    "            messages=messages,\n",
    "            tools=tools,\n",
    "        )\n",
    "        \n",
    "        return response.choices[0].message\n",
    "\n",
    "\n",
    "#Adds tool to the agent...................................\n",
    "    def _register_tool(self, tool:Tool):\n",
    "        self.tools.append(tool)\n",
    "\n"
   ]
  },
  {
   "cell_type": "code",
   "execution_count": 48,
   "id": "51f2c7a9",
   "metadata": {},
   "outputs": [],
   "source": [
    "def power(base:float, exponent:float):\n",
    "    \"\"\"Exponentatiation: base to the power of exponent\"\"\"\n",
    "    \n",
    "    return base ** exponent"
   ]
  },
  {
   "cell_type": "code",
   "execution_count": 49,
   "id": "980fc81f",
   "metadata": {},
   "outputs": [],
   "source": [
    "def sum(number_1:float, number_2:float):\n",
    "    \"\"\"Sum / Addition: Add two numbers\"\"\"\n",
    "    \n",
    "    return number_1 + number_2"
   ]
  },
  {
   "cell_type": "code",
   "execution_count": 50,
   "id": "c292c57a",
   "metadata": {},
   "outputs": [],
   "source": [
    "funcs = [power, sum]\n",
    "tools = [Tool(func) for func in funcs]"
   ]
  },
  {
   "cell_type": "code",
   "execution_count": 51,
   "id": "0b1456b0",
   "metadata": {},
   "outputs": [],
   "source": [
    "agent = Agent(\n",
    "    tools=tools\n",
    ")"
   ]
  },
  {
   "cell_type": "code",
   "execution_count": 52,
   "id": "5a137b34",
   "metadata": {},
   "outputs": [
    {
     "name": "stdout",
     "output_type": "stream",
     "text": [
      "Termninated loop with message: 'StopReactLoopException'\n"
     ]
    },
    {
     "data": {
      "text/plain": [
       "{'role': 'assistant',\n",
       " 'content': 'The final result of \\\\(2\\\\) to the power of \\\\(3\\\\) plus \\\\(10\\\\) is \\\\(18\\\\). If you have any more questions or need further assistance, feel free to ask!',\n",
       " 'tool_calls': None}"
      ]
     },
     "execution_count": 52,
     "metadata": {},
     "output_type": "execute_result"
    }
   ],
   "source": [
    "agent.invoke(\"Whats 2 to the power of 3? Then add 10 to the result\")"
   ]
  },
  {
   "cell_type": "code",
   "execution_count": 53,
   "id": "6aa8c7a9",
   "metadata": {},
   "outputs": [
    {
     "data": {
      "text/plain": [
       "[{'role': 'system',\n",
       "  'content': 'You\\'re an AI Agent, your role is Personal Assistant, and you need to Help users with any question You can answer multistep questions by sequentially calling functions. You follow a pattern of of Thought and Action. Create a plan of execution: - Use Thought to describe your thoughts about the question you have been asked. - Use Action to specify one of the tools available to you. When you think it\\'s over call the termination tool. Never try to respond directly if the question needs a tool.The actions you have are the Tools: [{\\'type\\': \\'function\\', \\'function\\': {\\'name\\': \\'power\\', \\'description\\': \\'Exponentatiation: base to the power of exponent\\', \\'parallel_tool_calls\\': False, \\'parameters\\': {\\'type\\': \\'object\\', \\'properties\\': {\\'base\\': {\\'type\\': \\'number\\'}, \\'exponent\\': {\\'type\\': \\'number\\'}}, \\'required\\': [\\'base\\', \\'exponent\\'], \\'additionalProperties\\': False}, \\'strict\\': True}}, {\\'type\\': \\'function\\', \\'function\\': {\\'name\\': \\'sum\\', \\'description\\': \\'Sum / Addition: Add two numbers\\', \\'parallel_tool_calls\\': False, \\'parameters\\': {\\'type\\': \\'object\\', \\'properties\\': {\\'number_1\\': {\\'type\\': \\'number\\'}, \\'number_2\\': {\\'type\\': \\'number\\'}}, \\'required\\': [\\'number_1\\', \\'number_2\\'], \\'additionalProperties\\': False}, \\'strict\\': True}}, {\\'type\\': \\'function\\', \\'function\\': {\\'name\\': \\'termination\\', \\'description\\': \"Terminate the ReAct loop. If the agent thinks there\\'s no further actions to take\", \\'parallel_tool_calls\\': False, \\'parameters\\': {\\'type\\': \\'object\\', \\'properties\\': {}, \\'required\\': [], \\'additionalProperties\\': False}, \\'strict\\': True}}]',\n",
       "  'tool_calls': {}},\n",
       " {'role': 'user',\n",
       "  'content': 'Whats 2 to the power of 3? Then add 10 to the result',\n",
       "  'tool_calls': {}},\n",
       " {'role': 'assistant',\n",
       "  'content': 'Thought: To solve the problem, I first need to calculate \\\\(2\\\\) raised to the power of \\\\(3\\\\). After that, I will add \\\\(10\\\\) to the result of that exponentiation.\\n\\nAction: I will first call the power function to calculate \\\\(2^3\\\\).',\n",
       "  'tool_calls': None},\n",
       " {'role': 'assistant',\n",
       "  'content': None,\n",
       "  'tool_calls': [ChatCompletionMessageToolCall(id='call_QaMs4qrkJzOyzdtRHHzqdkjk', function=Function(arguments='{\"base\":2,\"exponent\":3}', name='power'), type='function')]},\n",
       " {'role': 'tool',\n",
       "  'content': '8',\n",
       "  'tool_call_id': 'call_QaMs4qrkJzOyzdtRHHzqdkjk'},\n",
       " {'role': 'assistant',\n",
       "  'content': 'Thought: The result of \\\\(2\\\\) raised to the power of \\\\(3\\\\) is \\\\(8\\\\). Now, I need to add \\\\(10\\\\) to this result.\\n\\nAction: I will call the sum function to add \\\\(8\\\\) and \\\\(10\\\\).',\n",
       "  'tool_calls': None},\n",
       " {'role': 'assistant',\n",
       "  'content': None,\n",
       "  'tool_calls': [ChatCompletionMessageToolCall(id='call_wovrX1pU0nsq6Zz8zrFIeleR', function=Function(arguments='{\"number_1\":8,\"number_2\":10}', name='sum'), type='function')]},\n",
       " {'role': 'tool',\n",
       "  'content': '18',\n",
       "  'tool_call_id': 'call_wovrX1pU0nsq6Zz8zrFIeleR'},\n",
       " {'role': 'assistant',\n",
       "  'content': 'Thought: The sum of \\\\(8\\\\) and \\\\(10\\\\) is \\\\(18\\\\). \\n\\nAction: I will now call the termination function as I have completed the calculations.',\n",
       "  'tool_calls': None},\n",
       " {'role': 'assistant',\n",
       "  'content': None,\n",
       "  'tool_calls': [ChatCompletionMessageToolCall(id='call_xw0UTdiYQeYmK7kKXER5XVFV', function=Function(arguments='{}', name='termination'), type='function')]},\n",
       " {'role': 'tool',\n",
       "  'content': 'StopReactLoopException',\n",
       "  'tool_call_id': 'call_xw0UTdiYQeYmK7kKXER5XVFV'},\n",
       " {'role': 'assistant',\n",
       "  'content': 'The final result of \\\\(2\\\\) to the power of \\\\(3\\\\) plus \\\\(10\\\\) is \\\\(18\\\\). If you have any more questions or need further assistance, feel free to ask!',\n",
       "  'tool_calls': None}]"
      ]
     },
     "execution_count": 53,
     "metadata": {},
     "output_type": "execute_result"
    }
   ],
   "source": [
    "agent.memory.get_messages()"
   ]
  },
  {
   "cell_type": "code",
   "execution_count": 54,
   "id": "f43bf1e7",
   "metadata": {},
   "outputs": [
    {
     "name": "stdout",
     "output_type": "stream",
     "text": [
      "power\n",
      "sum\n",
      "termination\n"
     ]
    }
   ],
   "source": [
    "for tool in tools:\n",
    "    print(tool.name)"
   ]
  },
  {
   "cell_type": "code",
   "execution_count": 60,
   "id": "6e51d891",
   "metadata": {},
   "outputs": [
    {
     "name": "stdout",
     "output_type": "stream",
     "text": [
      "['power', 'sum', 'termination']\n"
     ]
    }
   ],
   "source": [
    "print(list(agent.tool_map))"
   ]
  },
  {
   "cell_type": "code",
   "execution_count": null,
   "id": "ff564eba",
   "metadata": {},
   "outputs": [
    {
     "ename": "NameError",
     "evalue": "name 'tool_calls' is not defined",
     "output_type": "error",
     "traceback": [
      "\u001b[31m---------------------------------------------------------------------------\u001b[39m",
      "\u001b[31mNameError\u001b[39m                                 Traceback (most recent call last)",
      "\u001b[36mCell\u001b[39m\u001b[36m \u001b[39m\u001b[32mIn[61]\u001b[39m\u001b[32m, line 1\u001b[39m\n\u001b[32m----> \u001b[39m\u001b[32m1\u001b[39m \u001b[38;5;28;01mfor\u001b[39;00m t \u001b[38;5;129;01min\u001b[39;00m \u001b[43mtool_calls\u001b[49m:\n\u001b[32m      2\u001b[39m     tool_call_id = t.id                          \u001b[38;5;66;03m#Loads Id\u001b[39;00m\n\u001b[32m      3\u001b[39m     function_name = t.function.name              \u001b[38;5;66;03m#Loads Name\u001b[39;00m\n",
      "\u001b[31mNameError\u001b[39m: name 'tool_calls' is not defined"
     ]
    }
   ],
   "source": [
    "\n",
    "for t in tool_calls:\n",
    "    tool_call_id = t.id                          #Loads Id\n",
    "    function_name = t.function.name              #Loads Name\n",
    "    args = json.loads(t.function.arguments)      #Loads Arguments\n",
    "\n",
    "    callable_tool = tool_map[function_name]\n",
    "    result = callable_tool(**args)\n",
    "            "
   ]
  },
  {
   "cell_type": "code",
   "execution_count": null,
   "id": "0576fde5",
   "metadata": {},
   "outputs": [],
   "source": []
  }
 ],
 "metadata": {
  "kernelspec": {
   "display_name": ".venv",
   "language": "python",
   "name": "python3"
  },
  "language_info": {
   "codemirror_mode": {
    "name": "ipython",
    "version": 3
   },
   "file_extension": ".py",
   "mimetype": "text/x-python",
   "name": "python",
   "nbconvert_exporter": "python",
   "pygments_lexer": "ipython3",
   "version": "3.13.5"
  }
 },
 "nbformat": 4,
 "nbformat_minor": 5
}
