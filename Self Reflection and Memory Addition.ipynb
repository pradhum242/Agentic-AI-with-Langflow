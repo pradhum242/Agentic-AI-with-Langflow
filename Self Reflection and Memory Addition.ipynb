{
 "cells": [
  {
   "cell_type": "code",
   "execution_count": 1,
   "id": "fb7877bd",
   "metadata": {},
   "outputs": [],
   "source": [
    "# Adding Self Reflection and Memory to Our AI Agent.."
   ]
  },
  {
   "cell_type": "code",
   "execution_count": 2,
   "id": "2e38f37d",
   "metadata": {},
   "outputs": [],
   "source": [
    "import json\n",
    "from typing import List, Dict, Literal\n",
    "from openai import OpenAI\n",
    "from openai.types.chat.chat_completion_message import ChatCompletionMessage"
   ]
  },
  {
   "cell_type": "code",
   "execution_count": 4,
   "id": "d6bb4a74",
   "metadata": {},
   "outputs": [],
   "source": [
    "from dotenv import load_dotenv\n",
    "import os\n",
    "load_dotenv()\n",
    "api_key = os.getenv(\"OPENAI_API_KEY\")\n",
    "client = OpenAI(\n",
    "    base_url=\"https://openai.vocareum.com/v1\",\n",
    "    api_key=api_key\n",
    ")"
   ]
  },
  {
   "cell_type": "code",
   "execution_count": 5,
   "id": "6883e825",
   "metadata": {},
   "outputs": [],
   "source": [
    "system_prompt = \"Answer all user questions\"\n",
    "user_prompt = \"What have I asked?\"\n",
    "response = client.chat.completions.create(\n",
    "    model=\"gpt-4o-mini\",\n",
    "    temperature=0.0,\n",
    "    messages=[\n",
    "        {\"role\" : \"system\", \"content\":system_prompt},\n",
    "        {\"role\" : \"user\", \"content\" : user_prompt},\n",
    "    ]\n",
    ")"
   ]
  },
  {
   "cell_type": "code",
   "execution_count": 6,
   "id": "86462166",
   "metadata": {},
   "outputs": [
    {
     "data": {
      "text/plain": [
       "\"I don't have access to previous interactions or any specific questions you've asked before. However, I'm here to help with any questions you have now! What would you like to know?\""
      ]
     },
     "execution_count": 6,
     "metadata": {},
     "output_type": "execute_result"
    }
   ],
   "source": [
    "response.choices[0].message.content"
   ]
  },
  {
   "cell_type": "code",
   "execution_count": 8,
   "id": "0966be0a",
   "metadata": {},
   "outputs": [],
   "source": [
    "#Adding Memory\n",
    "\n",
    "memory = [\n",
    "     {\"role\" : \"system\", \"content\": \"Answer all the questions\"},\n",
    "        {\"role\" : \"user\", \"content\" : \"What's an LLM\"},\n",
    "]"
   ]
  },
  {
   "cell_type": "code",
   "execution_count": 9,
   "id": "db26f587",
   "metadata": {},
   "outputs": [
    {
     "data": {
      "text/plain": [
       "[{'role': 'system', 'content': 'Answer all the questions'},\n",
       " {'role': 'user', 'content': \"What's an LLM\"},\n",
       " {'role': 'assistant',\n",
       "  'content': \"An LLM, or Large Language Model, is a type of artificial intelligence model designed to understand and generate human language. These models are trained on vast amounts of text data and use deep learning techniques, particularly neural networks, to learn patterns, grammar, context, and even some level of reasoning in language. LLMs can perform a variety of tasks, including text generation, translation, summarization, and answering questions, among others. Examples of LLMs include OpenAI's GPT-3 and GPT-4, Google's BERT, and others.\"}]"
      ]
     },
     "execution_count": 9,
     "metadata": {},
     "output_type": "execute_result"
    }
   ],
   "source": [
    "new_response = client.chat.completions.create(\n",
    "    model = \"gpt-4o-mini\",\n",
    "    messages=memory,\n",
    "    temperature=0.0,\n",
    ")\n",
    "memory.append(\n",
    "    {\"role\":\"assistant\", \"content\": new_response.choices[0].message.content}\n",
    ")\n",
    "memory"
   ]
  },
  {
   "cell_type": "code",
   "execution_count": 10,
   "id": "6cc8cf0c",
   "metadata": {},
   "outputs": [
    {
     "data": {
      "text/plain": [
       "[{'role': 'system', 'content': 'Answer all the questions'},\n",
       " {'role': 'user', 'content': \"What's an LLM\"},\n",
       " {'role': 'assistant',\n",
       "  'content': \"An LLM, or Large Language Model, is a type of artificial intelligence model designed to understand and generate human language. These models are trained on vast amounts of text data and use deep learning techniques, particularly neural networks, to learn patterns, grammar, context, and even some level of reasoning in language. LLMs can perform a variety of tasks, including text generation, translation, summarization, and answering questions, among others. Examples of LLMs include OpenAI's GPT-3 and GPT-4, Google's BERT, and others.\"},\n",
       " {'role': 'user', 'content': 'What have I asked?'}]"
      ]
     },
     "execution_count": 10,
     "metadata": {},
     "output_type": "execute_result"
    }
   ],
   "source": [
    "memory.append(\n",
    "    {\"role\": \"user\", \"content\": \"What have I asked?\"}\n",
    ")\n",
    "memory"
   ]
  },
  {
   "cell_type": "code",
   "execution_count": 11,
   "id": "4cf51289",
   "metadata": {},
   "outputs": [
    {
     "data": {
      "text/plain": [
       "[{'role': 'system', 'content': 'Answer all the questions'},\n",
       " {'role': 'user', 'content': \"What's an LLM\"},\n",
       " {'role': 'assistant',\n",
       "  'content': \"An LLM, or Large Language Model, is a type of artificial intelligence model designed to understand and generate human language. These models are trained on vast amounts of text data and use deep learning techniques, particularly neural networks, to learn patterns, grammar, context, and even some level of reasoning in language. LLMs can perform a variety of tasks, including text generation, translation, summarization, and answering questions, among others. Examples of LLMs include OpenAI's GPT-3 and GPT-4, Google's BERT, and others.\"},\n",
       " {'role': 'user', 'content': 'What have I asked?'},\n",
       " {'role': 'assistant',\n",
       "  'content': 'You asked, \"What\\'s an LLM?\" which refers to a Large Language Model in the context of artificial intelligence and natural language processing.'}]"
      ]
     },
     "execution_count": 11,
     "metadata": {},
     "output_type": "execute_result"
    }
   ],
   "source": [
    "new_response = client.chat.completions.create(\n",
    "    model=\"gpt-4o-mini\",\n",
    "    messages=memory,\n",
    "    temperature=0.0,\n",
    ")\n",
    "\n",
    "memory.append(\n",
    "    {\"role\": \"assistant\", \"content\": new_response.choices[0].message.content}\n",
    ")\n",
    "\n",
    "memory"
   ]
  },
  {
   "cell_type": "code",
   "execution_count": 14,
   "id": "3a9c20cf",
   "metadata": {},
   "outputs": [],
   "source": [
    "#Create a memory layer\n",
    "\n",
    "class Memory:\n",
    "    def __init__(self):\n",
    "        self._messages = []\n",
    "\n",
    "    def add_message(self, role, content):\n",
    "        self._messages.append({\"role\": role, \"content\": content})\n",
    "\n",
    "    def get_messages(self):\n",
    "        return self._messages\n",
    "\n",
    "    def last_message(self):\n",
    "        if self._messages:\n",
    "            return self._messages[-1]\n",
    "\n"
   ]
  },
  {
   "cell_type": "code",
   "execution_count": 15,
   "id": "f763dd4a",
   "metadata": {},
   "outputs": [],
   "source": [
    "SELF_CRITIQUE_PROMPT = \"\"\"\n",
    "Reflect on your previous response...\n",
    "Identify any mistakes, areas for improvement, or ways to clarify the answer, making it more concise. \n",
    "Provide a revised response if necessary in a Json Output structure:\n",
    "{\n",
    "    \"original_response\": \"\",\n",
    "    \"revisions_needed\": \"\",\n",
    "    \"updated_response\": \"\"\n",
    "}\n",
    "\"\"\""
   ]
  },
  {
   "cell_type": "code",
   "execution_count": null,
   "id": "d45580e0",
   "metadata": {},
   "outputs": [],
   "source": [
    "class Agent:\n",
    "    \"\"\"A self-reflection AI Agent\"\"\"\n",
    "\n",
    "    def __init__(\n",
    "        self,\n",
    "        name:str = \"Agent\", \n",
    "        role:str = \"Personal Assistant\",\n",
    "        instructions:str = \"Help users with any question\",\n",
    "        model:str = \"gpt-4o-mini\",\n",
    "        temperature:float = 0.0,\n",
    "    ):\n",
    "        self.name = name\n",
    "        self.role = role\n",
    "        self.instructions = instructions\n",
    "        self.model = model\n",
    "        self.temperature = temperature\n",
    "\n",
    "        self.client = client\n",
    "\n",
    "        self.memory = Memory()\n",
    "        self.memory.add_message(\n",
    "            role=\"system\",\n",
    "            content=f\"You're an AI Agent, your role is {self.role}, \" \n",
    "                    f\"and you need to {self.instructions}\",\n",
    "        )\n",
    "\n",
    "        self.critique_prompt = SELF_CRITIQUE_PROMPT\n",
    "    \n",
    "\n",
    "\n",
    "\n",
    "    \n",
    "    def invoke(self, \n",
    "               user_message: str, \n",
    "               self_reflection: bool = False, \n",
    "               max_iter: int = 1, \n",
    "               verbose: bool = False) -> str:\n",
    "    \n",
    "        # Rules\n",
    "        # - Don't allow values less than 1\n",
    "        # - Don't allow values greater than 3\n",
    "        # - Max iter is controlled by self_reflection flag. \n",
    "        # - If set to true, it needs to call the LLM at least once more for the criticism\n",
    "\n",
    "        self.memory.add_message(\n",
    "            role=\"user\",\n",
    "            content=user_message\n",
    "        )\n",
    "        if verbose:\n",
    "            self._log_last_message()\n",
    "\n",
    "        max_iter = max_iter if max_iter >= 1 else 1\n",
    "        max_iter = max_iter if max_iter <= 3 else 3\n",
    "        max_iter = max_iter if self_reflection else 0.5\n",
    "        loops = 2 * max_iter\n",
    "\n",
    "        for i in range(loops):\n",
    "            ai_message = self._get_completion(\n",
    "                messages = self.memory.get_messages()\n",
    "            )\n",
    "\n",
    "            self.memory.add_message(\n",
    "                role = \"assistant\",\n",
    "                content = ai_message.content,\n",
    "            )\n",
    "            if verbose:\n",
    "                self._log_last_message()\n",
    "\n",
    "            if i < loops - 1:\n",
    "                self.memory.add_message(\n",
    "                    role = \"user\", \n",
    "                    content = self.critique_prompt\n",
    "                )\n",
    "                if verbose:\n",
    "                    self._log_last_message()\n",
    "\n",
    "                ai_message = self._get_completion(\n",
    "                    messages = self.memory.get_messages()\n",
    "                )\n",
    "\n",
    "    def _get_completion(self, messages:List[Dict])-> ChatCompletionMessage:\n",
    "\n",
    "        response = self.client.chat.completions.create(\n",
    "            model=self.model,\n",
    "            temperature=self.temperature,\n",
    "            messages=messages\n",
    "        )\n",
    "        \n",
    "        return response.choices[0].message\n",
    "\n",
    "    def _log_last_message(self):\n",
    "        print(f\"### {self.memory.last_message()['role']} message ###\\n\".upper())\n",
    "        print(f\"{self.memory.last_message()['content']} \\n\")\n",
    "        print(\"\\n________________________________________________________________\\n\")\n"
   ]
  },
  {
   "cell_type": "code",
   "execution_count": 19,
   "id": "75d3ef22",
   "metadata": {},
   "outputs": [
    {
     "name": "stdout",
     "output_type": "stream",
     "text": [
      "### USER MESSAGE ###\n",
      "\n",
      "Pick only one. Who is the best character in Game of Thrones? \n",
      "\n",
      "\n",
      "________________________________________________________________\n",
      "\n",
      "### ASSISTANT MESSAGE ###\n",
      "\n",
      "Choosing the best character in \"Game of Thrones\" is subjective and depends on personal preference. However, many fans often cite Tyrion Lannister as a standout character due to his wit, intelligence, and moral complexity. He navigates the treacherous political landscape with a unique perspective and often serves as a voice of reason amidst chaos. Who is your favorite character? \n",
      "\n",
      "\n",
      "________________________________________________________________\n",
      "\n",
      "### USER MESSAGE ###\n",
      "\n",
      "\n",
      "Reflect on your previous response...\n",
      "Identify any mistakes, areas for improvement, or ways to clarify the answer, making it more concise. \n",
      "Provide a revised response if necessary in a Json Output structure:\n",
      "{\n",
      "    \"original_response\": \"\",\n",
      "    \"revisions_needed\": \"\",\n",
      "    \"updated_response\": \"\"\n",
      "}\n",
      " \n",
      "\n",
      "\n",
      "________________________________________________________________\n",
      "\n",
      "### ASSISTANT MESSAGE ###\n",
      "\n",
      "{\n",
      "    \"original_response\": \"Choosing the best character in 'Game of Thrones' is subjective and depends on personal preference. However, many fans often cite Tyrion Lannister as a standout character due to his wit, intelligence, and moral complexity. He navigates the treacherous political landscape with a unique perspective and often serves as a voice of reason amidst chaos. Who is your favorite character?\",\n",
      "    \"revisions_needed\": \"The response could be more concise and focused solely on the character without asking for the user's opinion. Additionally, it could briefly mention why Tyrion is often considered the best without excessive detail.\",\n",
      "    \"updated_response\": \"Many fans consider Tyrion Lannister the best character in 'Game of Thrones' due to his wit, intelligence, and moral complexity, making him a compelling figure in the series.\"\n",
      "} \n",
      "\n",
      "\n",
      "________________________________________________________________\n",
      "\n"
     ]
    }
   ],
   "source": [
    "agent = Agent()\n",
    "agent.invoke(\n",
    "    user_message=\"Pick only one. Who is the best character in Game of Thrones?\",\n",
    "    self_reflection=True,\n",
    "    verbose=True,\n",
    ")"
   ]
  },
  {
   "cell_type": "code",
   "execution_count": 20,
   "id": "9d9300f3",
   "metadata": {},
   "outputs": [
    {
     "data": {
      "text/plain": [
       "[{'role': 'system',\n",
       "  'content': \"You're an AI Agent, your role is Personal Assistant, and you need to Help users with any question\"},\n",
       " {'role': 'user',\n",
       "  'content': 'Pick only one. Who is the best character in Game of Thrones?'},\n",
       " {'role': 'assistant',\n",
       "  'content': 'Choosing the best character in \"Game of Thrones\" is subjective and depends on personal preference. However, many fans often cite Tyrion Lannister as a standout character due to his wit, intelligence, and moral complexity. He navigates the treacherous political landscape with a unique perspective and often serves as a voice of reason amidst chaos. Who is your favorite character?'},\n",
       " {'role': 'user',\n",
       "  'content': '\\nReflect on your previous response...\\nIdentify any mistakes, areas for improvement, or ways to clarify the answer, making it more concise. \\nProvide a revised response if necessary in a Json Output structure:\\n{\\n    \"original_response\": \"\",\\n    \"revisions_needed\": \"\",\\n    \"updated_response\": \"\"\\n}\\n'},\n",
       " {'role': 'assistant',\n",
       "  'content': '{\\n    \"original_response\": \"Choosing the best character in \\'Game of Thrones\\' is subjective and depends on personal preference. However, many fans often cite Tyrion Lannister as a standout character due to his wit, intelligence, and moral complexity. He navigates the treacherous political landscape with a unique perspective and often serves as a voice of reason amidst chaos. Who is your favorite character?\",\\n    \"revisions_needed\": \"The response could be more concise and focused solely on the character without asking for the user\\'s opinion. Additionally, it could briefly mention why Tyrion is often considered the best without excessive detail.\",\\n    \"updated_response\": \"Many fans consider Tyrion Lannister the best character in \\'Game of Thrones\\' due to his wit, intelligence, and moral complexity, making him a compelling figure in the series.\"\\n}'}]"
      ]
     },
     "execution_count": 20,
     "metadata": {},
     "output_type": "execute_result"
    }
   ],
   "source": [
    "agent.memory.get_messages()"
   ]
  },
  {
   "cell_type": "code",
   "execution_count": 21,
   "id": "51ac19a5",
   "metadata": {},
   "outputs": [
    {
     "data": {
      "text/plain": [
       "\"Many fans consider Tyrion Lannister the best character in 'Game of Thrones' due to his wit, intelligence, and moral complexity, making him a compelling figure in the series.\""
      ]
     },
     "execution_count": 21,
     "metadata": {},
     "output_type": "execute_result"
    }
   ],
   "source": [
    "json.loads(agent.memory.last_message()[\"content\"])[\"updated_response\"]"
   ]
  },
  {
   "cell_type": "code",
   "execution_count": null,
   "id": "3e944604",
   "metadata": {},
   "outputs": [],
   "source": []
  }
 ],
 "metadata": {
  "kernelspec": {
   "display_name": ".venv",
   "language": "python",
   "name": "python3"
  },
  "language_info": {
   "codemirror_mode": {
    "name": "ipython",
    "version": 3
   },
   "file_extension": ".py",
   "mimetype": "text/x-python",
   "name": "python",
   "nbconvert_exporter": "python",
   "pygments_lexer": "ipython3",
   "version": "3.13.5"
  }
 },
 "nbformat": 4,
 "nbformat_minor": 5
}
