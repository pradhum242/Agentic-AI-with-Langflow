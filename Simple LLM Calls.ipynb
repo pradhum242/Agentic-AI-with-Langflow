{
 "cells": [
  {
   "cell_type": "code",
   "execution_count": null,
   "id": "232b08c0",
   "metadata": {},
   "outputs": [],
   "source": [
    "# Hi Pradhum this side\n",
    "# Simple LLM Calls"
   ]
  },
  {
   "cell_type": "code",
   "execution_count": 2,
   "id": "7a522bf9",
   "metadata": {},
   "outputs": [
    {
     "name": "stdout",
     "output_type": "stream",
     "text": [
      "Collecting OpenAI\n",
      "  Downloading openai-1.93.0-py3-none-any.whl.metadata (29 kB)\n",
      "Collecting anyio<5,>=3.5.0 (from OpenAI)\n",
      "  Using cached anyio-4.9.0-py3-none-any.whl.metadata (4.7 kB)\n",
      "Collecting distro<2,>=1.7.0 (from OpenAI)\n",
      "  Using cached distro-1.9.0-py3-none-any.whl.metadata (6.8 kB)\n",
      "Collecting httpx<1,>=0.23.0 (from OpenAI)\n",
      "  Using cached httpx-0.28.1-py3-none-any.whl.metadata (7.1 kB)\n",
      "Collecting jiter<1,>=0.4.0 (from OpenAI)\n",
      "  Using cached jiter-0.10.0-cp313-cp313-win_amd64.whl.metadata (5.3 kB)\n",
      "Collecting pydantic<3,>=1.9.0 (from OpenAI)\n",
      "  Using cached pydantic-2.11.7-py3-none-any.whl.metadata (67 kB)\n",
      "Collecting sniffio (from OpenAI)\n",
      "  Using cached sniffio-1.3.1-py3-none-any.whl.metadata (3.9 kB)\n",
      "Collecting tqdm>4 (from OpenAI)\n",
      "  Using cached tqdm-4.67.1-py3-none-any.whl.metadata (57 kB)\n",
      "Collecting typing-extensions<5,>=4.11 (from OpenAI)\n",
      "  Using cached typing_extensions-4.14.0-py3-none-any.whl.metadata (3.0 kB)\n",
      "Collecting idna>=2.8 (from anyio<5,>=3.5.0->OpenAI)\n",
      "  Using cached idna-3.10-py3-none-any.whl.metadata (10 kB)\n",
      "Collecting certifi (from httpx<1,>=0.23.0->OpenAI)\n",
      "  Using cached certifi-2025.6.15-py3-none-any.whl.metadata (2.4 kB)\n",
      "Collecting httpcore==1.* (from httpx<1,>=0.23.0->OpenAI)\n",
      "  Using cached httpcore-1.0.9-py3-none-any.whl.metadata (21 kB)\n",
      "Collecting h11>=0.16 (from httpcore==1.*->httpx<1,>=0.23.0->OpenAI)\n",
      "  Using cached h11-0.16.0-py3-none-any.whl.metadata (8.3 kB)\n",
      "Collecting annotated-types>=0.6.0 (from pydantic<3,>=1.9.0->OpenAI)\n",
      "  Using cached annotated_types-0.7.0-py3-none-any.whl.metadata (15 kB)\n",
      "Collecting pydantic-core==2.33.2 (from pydantic<3,>=1.9.0->OpenAI)\n",
      "  Using cached pydantic_core-2.33.2-cp313-cp313-win_amd64.whl.metadata (6.9 kB)\n",
      "Collecting typing-inspection>=0.4.0 (from pydantic<3,>=1.9.0->OpenAI)\n",
      "  Using cached typing_inspection-0.4.1-py3-none-any.whl.metadata (2.6 kB)\n",
      "Requirement already satisfied: colorama in c:\\users\\pradhum.thakur\\desktop\\langgraph\\.venv\\lib\\site-packages (from tqdm>4->OpenAI) (0.4.6)\n",
      "Downloading openai-1.93.0-py3-none-any.whl (755 kB)\n",
      "   ---------------------------------------- 0.0/755.0 kB ? eta -:--:--\n",
      "   ---------------------------------------- 755.0/755.0 kB 7.3 MB/s eta 0:00:00\n",
      "Using cached anyio-4.9.0-py3-none-any.whl (100 kB)\n",
      "Using cached distro-1.9.0-py3-none-any.whl (20 kB)\n",
      "Using cached httpx-0.28.1-py3-none-any.whl (73 kB)\n",
      "Using cached httpcore-1.0.9-py3-none-any.whl (78 kB)\n",
      "Using cached jiter-0.10.0-cp313-cp313-win_amd64.whl (205 kB)\n",
      "Using cached pydantic-2.11.7-py3-none-any.whl (444 kB)\n",
      "Using cached pydantic_core-2.33.2-cp313-cp313-win_amd64.whl (2.0 MB)\n",
      "Using cached typing_extensions-4.14.0-py3-none-any.whl (43 kB)\n",
      "Using cached annotated_types-0.7.0-py3-none-any.whl (13 kB)\n",
      "Using cached h11-0.16.0-py3-none-any.whl (37 kB)\n",
      "Using cached idna-3.10-py3-none-any.whl (70 kB)\n",
      "Using cached sniffio-1.3.1-py3-none-any.whl (10 kB)\n",
      "Using cached tqdm-4.67.1-py3-none-any.whl (78 kB)\n",
      "Using cached typing_inspection-0.4.1-py3-none-any.whl (14 kB)\n",
      "Using cached certifi-2025.6.15-py3-none-any.whl (157 kB)\n",
      "Installing collected packages: typing-extensions, tqdm, sniffio, jiter, idna, h11, distro, certifi, annotated-types, typing-inspection, pydantic-core, httpcore, anyio, pydantic, httpx, OpenAI\n",
      "\n",
      "   ----------------------------------------  0/16 [typing-extensions]\n",
      "   -- -------------------------------------  1/16 [tqdm]\n",
      "   -- -------------------------------------  1/16 [tqdm]\n",
      "   ----- ----------------------------------  2/16 [sniffio]\n",
      "   ---------- -----------------------------  4/16 [idna]\n",
      "   ------------ ---------------------------  5/16 [h11]\n",
      "   --------------- ------------------------  6/16 [distro]\n",
      "   ----------------- ----------------------  7/16 [certifi]\n",
      "   ------------------------- -------------- 10/16 [pydantic-core]\n",
      "   --------------------------- ------------ 11/16 [httpcore]\n",
      "   --------------------------- ------------ 11/16 [httpcore]\n",
      "   ------------------------------ --------- 12/16 [anyio]\n",
      "   ------------------------------ --------- 12/16 [anyio]\n",
      "   -------------------------------- ------- 13/16 [pydantic]\n",
      "   -------------------------------- ------- 13/16 [pydantic]\n",
      "   -------------------------------- ------- 13/16 [pydantic]\n",
      "   -------------------------------- ------- 13/16 [pydantic]\n",
      "   -------------------------------- ------- 13/16 [pydantic]\n",
      "   -------------------------------- ------- 13/16 [pydantic]\n",
      "   ----------------------------------- ---- 14/16 [httpx]\n",
      "   ----------------------------------- ---- 14/16 [httpx]\n",
      "   ------------------------------------- -- 15/16 [OpenAI]\n",
      "   ------------------------------------- -- 15/16 [OpenAI]\n",
      "   ------------------------------------- -- 15/16 [OpenAI]\n",
      "   ------------------------------------- -- 15/16 [OpenAI]\n",
      "   ------------------------------------- -- 15/16 [OpenAI]\n",
      "   ------------------------------------- -- 15/16 [OpenAI]\n",
      "   ------------------------------------- -- 15/16 [OpenAI]\n",
      "   ------------------------------------- -- 15/16 [OpenAI]\n",
      "   ------------------------------------- -- 15/16 [OpenAI]\n",
      "   ------------------------------------- -- 15/16 [OpenAI]\n",
      "   ------------------------------------- -- 15/16 [OpenAI]\n",
      "   ------------------------------------- -- 15/16 [OpenAI]\n",
      "   ------------------------------------- -- 15/16 [OpenAI]\n",
      "   ------------------------------------- -- 15/16 [OpenAI]\n",
      "   ------------------------------------- -- 15/16 [OpenAI]\n",
      "   ------------------------------------- -- 15/16 [OpenAI]\n",
      "   ------------------------------------- -- 15/16 [OpenAI]\n",
      "   ------------------------------------- -- 15/16 [OpenAI]\n",
      "   ------------------------------------- -- 15/16 [OpenAI]\n",
      "   ------------------------------------- -- 15/16 [OpenAI]\n",
      "   ------------------------------------- -- 15/16 [OpenAI]\n",
      "   ------------------------------------- -- 15/16 [OpenAI]\n",
      "   ------------------------------------- -- 15/16 [OpenAI]\n",
      "   ------------------------------------- -- 15/16 [OpenAI]\n",
      "   ------------------------------------- -- 15/16 [OpenAI]\n",
      "   ------------------------------------- -- 15/16 [OpenAI]\n",
      "   ------------------------------------- -- 15/16 [OpenAI]\n",
      "   ---------------------------------------- 16/16 [OpenAI]\n",
      "\n",
      "Successfully installed OpenAI-1.93.0 annotated-types-0.7.0 anyio-4.9.0 certifi-2025.6.15 distro-1.9.0 h11-0.16.0 httpcore-1.0.9 httpx-0.28.1 idna-3.10 jiter-0.10.0 pydantic-2.11.7 pydantic-core-2.33.2 sniffio-1.3.1 tqdm-4.67.1 typing-extensions-4.14.0 typing-inspection-0.4.1\n",
      "Note: you may need to restart the kernel to use updated packages.\n"
     ]
    }
   ],
   "source": [
    "pip install OpenAI"
   ]
  },
  {
   "cell_type": "code",
   "execution_count": 5,
   "id": "ab952b4f",
   "metadata": {},
   "outputs": [
    {
     "name": "stdout",
     "output_type": "stream",
     "text": [
      "Collecting python-dotenv\n",
      "  Downloading python_dotenv-1.1.1-py3-none-any.whl.metadata (24 kB)\n",
      "Downloading python_dotenv-1.1.1-py3-none-any.whl (20 kB)\n",
      "Installing collected packages: python-dotenv\n",
      "Successfully installed python-dotenv-1.1.1\n",
      "Note: you may need to restart the kernel to use updated packages.\n"
     ]
    }
   ],
   "source": [
    "pip install python-dotenv"
   ]
  },
  {
   "cell_type": "code",
   "execution_count": 6,
   "id": "16a7a907",
   "metadata": {},
   "outputs": [],
   "source": [
    "from openai import OpenAI\n",
    "from dotenv import load_dotenv\n",
    "import os \n",
    "\n",
    "load_dotenv()\n",
    "\n",
    "api_key = os.getenv(\"api_key\")\n",
    "client = OpenAI(\n",
    "    base_url=\"https://openai.vocareum.com/v1\",\n",
    "    api_key=api_key\n",
    ")"
   ]
  },
  {
   "cell_type": "code",
   "execution_count": null,
   "id": "b430df8b",
   "metadata": {},
   "outputs": [],
   "source": [
    "model = \"gpt-4o-mini\"\n",
    "temperature = 0.3"
   ]
  },
  {
   "cell_type": "code",
   "execution_count": 8,
   "id": "ee9315c7",
   "metadata": {},
   "outputs": [],
   "source": [
    "system_prompt = \"\"\"\n",
    "                You are a friendly and knowledgeable travel assistant. Your job is to help users plan the perfect trip based on their preferences.\n",
    "                You must ask clarifying questions if important details are missing, and then suggest personalized itineraries, destinations, accommodations,\n",
    "                local attractions, transportation, weather tips, and budgets.\n",
    "\n",
    "                    Always provide your responses in a helpful, conversational, and organized manner.\n",
    "\n",
    "                    Do not guess details—ask the user politely if any required information is missing.\n",
    "\n",
    "                    Your goals:\n",
    "                    - Understand the purpose, duration, budget, and travel preferences (solo/family/couple/etc.)\n",
    "                    - Suggest destinations that match the user's interests\n",
    "                    - Provide an itinerary with dates, activities, and travel tips\n",
    "                    - Recommend accommodations, transportation options, and must-visit places\n",
    "                    - Mention local customs, safety advice, or anything seasonal (festivals/weather) \n",
    "                \"\"\""
   ]
  },
  {
   "cell_type": "code",
   "execution_count": 17,
   "id": "ae01dcfc",
   "metadata": {},
   "outputs": [],
   "source": [
    "def create_content(query:str, client:OpenAI, system_prompt:str, model:str, temperature:float)->str:\n",
    "    messages = [{\"role\": \"system\",\"content\" : system_prompt},]\n",
    "    response = client.chat.completions.create(model=model, messages= messages, temperature=temperature,)\n",
    "    content = response.choices[0].message.content\n",
    "    return content"
   ]
  },
  {
   "cell_type": "code",
   "execution_count": 18,
   "id": "0305385c",
   "metadata": {},
   "outputs": [],
   "source": [
    "analyst_query = \"Based on current travel trends and user preferences, suggest a 5-day travel itinerary for a couple looking for a romantic getaway in Italy, including recommended destinations, activities, and estimated costs.\""
   ]
  },
  {
   "cell_type": "code",
   "execution_count": 19,
   "id": "7b6e067a",
   "metadata": {},
   "outputs": [],
   "source": [
    "content = create_content(query=analyst_query, client=client,system_prompt=system_prompt, model=model,temperature=temperature,)"
   ]
  },
  {
   "cell_type": "code",
   "execution_count": 20,
   "id": "0114e7ac",
   "metadata": {},
   "outputs": [
    {
     "name": "stdout",
     "output_type": "stream",
     "text": [
      "Hello! I'm excited to help you plan your perfect trip! To get started, could you please share a bit more about your travel preferences? Here are a few questions to guide us:\n",
      "\n",
      "1. **Purpose of the trip**: Is it for relaxation, adventure, culture, family time, or something else?\n",
      "2. **Duration**: How long do you plan to travel?\n",
      "3. **Budget**: What is your approximate budget for the trip?\n",
      "4. **Travel companions**: Are you traveling solo, with family, friends, or a partner?\n",
      "5. **Preferred destinations**: Do you have any specific places in mind, or are you open to suggestions?\n",
      "6. **Interests**: What activities do you enjoy? (e.g., hiking, museums, dining, shopping, etc.)\n",
      "7. **Travel dates**: When do you plan to travel, and are there any specific dates to consider?\n",
      "\n",
      "Once I have this information, I can provide you with a tailored itinerary and recommendations!\n"
     ]
    }
   ],
   "source": [
    "print(content)"
   ]
  },
  {
   "cell_type": "code",
   "execution_count": null,
   "id": "faba9f1d",
   "metadata": {},
   "outputs": [],
   "source": []
  }
 ],
 "metadata": {
  "kernelspec": {
   "display_name": ".venv",
   "language": "python",
   "name": "python3"
  },
  "language_info": {
   "codemirror_mode": {
    "name": "ipython",
    "version": 3
   },
   "file_extension": ".py",
   "mimetype": "text/x-python",
   "name": "python",
   "nbconvert_exporter": "python",
   "pygments_lexer": "ipython3",
   "version": "3.13.5"
  }
 },
 "nbformat": 4,
 "nbformat_minor": 5
}
